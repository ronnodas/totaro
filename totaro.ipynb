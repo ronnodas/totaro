{
 "cells": [
  {
   "cell_type": "markdown",
   "metadata": {},
   "source": [
    "$\\renewcommand{\\CC}{\\mathbb{C}}$\n",
    "$\\renewcommand{\\fS}{\\mathfrak{S}}$\n",
    "\n",
    "# Cohomology of configuration space via the Totaro spectral sequence\n",
    "\n",
    "For a topological space $X$, the ordered configuration space $F(X, r)$ is the subspace of the product $X^r$ where no two of the coordinates coincide: $x_i \\ne x_j$ for $i \\ne j$. In [[Tot96]](https://www.math.ucla.edu/~totaro/papers/public_html/config.pdf), Totaro identifies the first $\\dim X + 1$ pages of the Leray spectral sequence of the inclusion $F(X, r) \\hookrightarrow X^r$ with rational coefficients as a CDGA with explicit generators, relations and differential. We implement here a computation of the $E_2$ terms and cohomology of this CDGA, as $\\mathfrak{S}_r$ representations. If $X$ is a smooth projective variety over $\\mathbb{C}$, then this in fact computes the rational cohomology $H^*(F(X, r); \\mathbb{Q})$."
   ]
  },
  {
   "cell_type": "markdown",
   "metadata": {},
   "source": [
    "## Initialization\n",
    "\n",
    "First step is to load the implementation."
   ]
  },
  {
   "cell_type": "code",
   "execution_count": 10,
   "metadata": {},
   "outputs": [],
   "source": [
    "load('totaro.sage')"
   ]
  },
  {
   "cell_type": "markdown",
   "metadata": {},
   "source": [
    "# Examples\n",
    "\n",
    "## Projective line, $2$ points\n",
    "Our first example will be $X = \\mathbb{C}P^1$, $r = 2$. For convenience we will use the notation $\\mathbb{P}^n = \\mathbb{C}P^n$. In this case $F(X, r)$ is a $\\mathbb{C}$ bundle on $\\mathbb{P^1}$, and the equivalence to $\\mathbb{P}^1 = \\mathbb{C} \\cup \\infty$ takes the $\\mathfrak{S}_2$ action to $z \\mapsto -1/\\bar{z}$ (or in polar coordinates, $(r, \\theta) \\mapsto (1/r, \\theta + \\pi)$). This is orientation reversing, so acts by $-1$ on $H^2$, ie the sign representation."
   ]
  },
  {
   "cell_type": "code",
   "execution_count": 11,
   "metadata": {},
   "outputs": [
    {
     "name": "stdout",
     "output_type": "stream",
     "text": [
      "0 | [1, 1]   [1, -1]\n",
      "--+-----------------\n",
      "  |      0 1       2\n"
     ]
    }
   ],
   "source": [
    "P1 = complex_projective_space(1)\n",
    "E = TotaroAlgebra(P1, 2)\n",
    "E.print_cohomology()"
   ]
  },
  {
   "cell_type": "markdown",
   "metadata": {},
   "source": [
    "The output is shows the terms as characters of $\\mathfrak{S}_r$, in this case a trivial character in degree $0 + 0 = 0$ and a sign character in degree $2 + 0 = 2$."
   ]
  },
  {
   "cell_type": "markdown",
   "metadata": {},
   "source": [
    "The differential on the $E_2$ page is non-zero, specifically $E_2^{0,1} \\to E_2^{2,0}$ and $E_2^{2, 1} \\to E_2^{4, 0}$."
   ]
  },
  {
   "cell_type": "code",
   "execution_count": 12,
   "metadata": {},
   "outputs": [
    {
     "name": "stdout",
     "output_type": "stream",
     "text": [
      "1 | 1   1    \n",
      "0 | 1   2   1\n",
      "--+----------\n",
      "  | 0 1 2 3 4\n",
      "There may be non-zero differentials:\n",
      "\ton page 2: (0, 1) -> (2, 0), (2, 1) -> (4, 0)\n"
     ]
    }
   ],
   "source": [
    "E.print_E2()"
   ]
  },
  {
   "cell_type": "markdown",
   "metadata": {},
   "source": [
    "If we only care about the dimensions and not the $\\mathfrak{S}_r$ action, it is easy to read them off the characters, but even more simply:"
   ]
  },
  {
   "cell_type": "code",
   "execution_count": 13,
   "metadata": {},
   "outputs": [
    {
     "name": "stdout",
     "output_type": "stream",
     "text": [
      "0 | 1   1\n",
      "--+------\n",
      "  | 0 1 2\n"
     ]
    }
   ],
   "source": [
    "E.print_cohomology_dimensions()"
   ]
  },
  {
   "cell_type": "markdown",
   "metadata": {},
   "source": [
    "## Projective line, 5 points\n",
    "Increasing the number of points slows down the computation quite severly."
   ]
  },
  {
   "cell_type": "code",
   "execution_count": 19,
   "metadata": {},
   "outputs": [
    {
     "name": "stdout",
     "output_type": "stream",
     "text": [
      "3 |     6\n",
      "2 | 6   5\n",
      "1 | 5   1\n",
      "0 | 1    \n",
      "--+------\n",
      "  | 0 1 2\n"
     ]
    }
   ],
   "source": [
    "E = TotaroAlgebra(P1, 5)\n",
    "E.print_cohomology_dimensions()"
   ]
  },
  {
   "cell_type": "markdown",
   "metadata": {},
   "source": [
    "Computing the representations is a bit more work:"
   ]
  },
  {
   "cell_type": "code",
   "execution_count": 20,
   "metadata": {},
   "outputs": [
    {
     "name": "stdout",
     "output_type": "stream",
     "text": [
      "3 |                            [6, 0, -2, 0, 0, 0, 1]\n",
      "2 |  [6, 0, -2, 0, 0, 0, 1]   [5, 1, 1, -1, 1, -1, 0]\n",
      "1 | [5, 1, 1, -1, 1, -1, 0]     [1, 1, 1, 1, 1, 1, 1]\n",
      "0 |   [1, 1, 1, 1, 1, 1, 1]                          \n",
      "--+--------------------------------------------------\n",
      "  |                       0 1                       2\n"
     ]
    }
   ],
   "source": [
    "E.print_cohomology()"
   ]
  },
  {
   "cell_type": "code",
   "execution_count": 1,
   "metadata": {},
   "outputs": [],
   "source": [
    "\n",
    "H = TotaroAlgebra(P2, 5)\n",
    "H.print_E2()\n",
    "print()\n",
    "H.print_cohomology_dimensions()\n",
    "# for character in H.sn:\n",
    "#     print(character)\n",
    "#     H.print_cohomology(character)\n",
    "# H.print_cohomology([1, 1, 1])\n",
    "\n",
    "# X = Cohomology(6, {'x':2}, ['x^3'], 'x{i}^2*x{j} + x{i}*x{j}^2')\n",
    "# H = TotaroAlgebra(X,3)\n",
    "# H.print_cohomology()\n",
    "\n",
    "# C4 = Cohomology(8, {}, diagonal=\"0\")\n",
    "# H = TotaroAlgebra(C4, 3)\n",
    "# H.print_cohomology_dimensions()\n"
   ]
  },
  {
   "cell_type": "code",
   "execution_count": 2,
   "metadata": {},
   "outputs": [
    {
     "name": "stdout",
     "output_type": "stream",
     "text": [
      "0 | 1   2   2   1\n",
      "--+--------------\n",
      "  | 0 1 2 3 4 5 6\n"
     ]
    }
   ],
   "source": [
    "P2 = complex_projective_space(2)\n",
    "H = TotaroAlgebra(P2, 2)\n",
    "H.print_cohomology_dimensions()"
   ]
  }
 ],
 "metadata": {
  "kernelspec": {
   "display_name": "SageMath 9.7",
   "language": "sage",
   "name": "sagemath"
  },
  "language_info": {
   "codemirror_mode": {
    "name": "ipython",
    "version": 3
   },
   "file_extension": ".py",
   "mimetype": "text/x-python",
   "name": "python",
   "nbconvert_exporter": "python",
   "pygments_lexer": "ipython3",
   "version": "3.10.8"
  },
  "orig_nbformat": 4
 },
 "nbformat": 4,
 "nbformat_minor": 2
}
